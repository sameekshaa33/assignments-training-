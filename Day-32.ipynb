{
 "cells": [
  {
   "cell_type": "code",
   "execution_count": 5,
   "id": "986bda65",
   "metadata": {},
   "outputs": [
    {
     "name": "stdout",
     "output_type": "stream",
     "text": [
      "Requirement already satisfied: nltk in c:\\users\\karla\\anaconda3\\lib\\site-packages (3.7)\n",
      "Requirement already satisfied: click in c:\\users\\karla\\anaconda3\\lib\\site-packages (from nltk) (8.0.4)\n",
      "Requirement already satisfied: joblib in c:\\users\\karla\\anaconda3\\lib\\site-packages (from nltk) (1.2.0)\n",
      "Requirement already satisfied: tqdm in c:\\users\\karla\\anaconda3\\lib\\site-packages (from nltk) (4.64.0)\n",
      "Requirement already satisfied: regex>=2021.8.3 in c:\\users\\karla\\anaconda3\\lib\\site-packages (from nltk) (2022.3.15)\n",
      "Requirement already satisfied: colorama in c:\\users\\karla\\anaconda3\\lib\\site-packages (from click->nltk) (0.4.6)\n",
      "Note: you may need to restart the kernel to use updated packages.\n"
     ]
    }
   ],
   "source": [
    "pip install nltk"
   ]
  },
  {
   "cell_type": "code",
   "execution_count": 9,
   "id": "055d5753",
   "metadata": {},
   "outputs": [
    {
     "name": "stderr",
     "output_type": "stream",
     "text": [
      "[nltk_data] Downloading package punkt to\n",
      "[nltk_data]     C:\\Users\\karla\\AppData\\Roaming\\nltk_data...\n",
      "[nltk_data]   Package punkt is already up-to-date!\n"
     ]
    },
    {
     "data": {
      "text/plain": [
       "True"
      ]
     },
     "execution_count": 9,
     "metadata": {},
     "output_type": "execute_result"
    }
   ],
   "source": [
    "import nltk\n",
    "nltk.download('punkt')\n"
   ]
  },
  {
   "cell_type": "code",
   "execution_count": 11,
   "id": "dc1131aa",
   "metadata": {},
   "outputs": [
    {
     "name": "stdout",
     "output_type": "stream",
     "text": [
      "Top 5 most frequent tokens:\n",
      ",: 0.0538\n",
      "and: 0.0538\n",
      "is: 0.0430\n",
      ".: 0.0430\n",
      "intelligence: 0.0430\n"
     ]
    }
   ],
   "source": [
    "import nltk\n",
    "from nltk.tokenize import word_tokenize\n",
    "from collections import Counter\n",
    "\n",
    "# Predefined text (you can replace this with any text you'd like)\n",
    "text = \"\"\"\n",
    "Data science is an inter-disciplinary field that uses scientific methods, processes, algorithms, and systems to extract knowledge and insights from structured and unstructured data. Machine learning is a method of data analysis that automates analytical model building. It is a branch of artificial intelligence based on the idea that systems can learn from data, identify patterns and make decisions with minimal human intervention. Artificial intelligence (AI) is intelligence demonstrated by machines, in contrast to the natural intelligence displayed by humans and animals.\n",
    "\"\"\"\n",
    "\n",
    "# Function to calculate Term Frequency (TF)\n",
    "def calculate_tf(tokens):\n",
    "    # Create a Counter object to count the frequency of each token\n",
    "    token_counts = Counter(tokens)\n",
    "    \n",
    "    # Calculate term frequency (TF) by dividing each token's count by the total number of tokens\n",
    "    total_tokens = len(tokens)\n",
    "    tf = {word: count / total_tokens for word, count in token_counts.items()}\n",
    "    \n",
    "    return tf\n",
    "\n",
    "# Function to get the top 5 most frequent tokens\n",
    "def get_top_5_tokens(tf):\n",
    "    # Sort the tokens by TF in descending order and get the top 5\n",
    "    sorted_tf = sorted(tf.items(), key=lambda x: x[1], reverse=True)\n",
    "    return sorted_tf[:5]\n",
    "\n",
    "# Tokenize the text\n",
    "tokens = word_tokenize(text)\n",
    "\n",
    "# Calculate Term Frequency (TF)\n",
    "tf = calculate_tf(tokens)\n",
    "\n",
    "# Get the top 5 most frequent tokens\n",
    "top_5_tokens = get_top_5_tokens(tf)\n",
    "\n",
    "# Display the top 5 most frequent tokens and their TF\n",
    "print(\"Top 5 most frequent tokens:\")\n",
    "for word, freq in top_5_tokens:\n",
    "    print(f\"{word}: {freq:.4f}\")\n"
   ]
  },
  {
   "cell_type": "code",
   "execution_count": null,
   "id": "4ea71be4",
   "metadata": {},
   "outputs": [],
   "source": []
  }
 ],
 "metadata": {
  "kernelspec": {
   "display_name": "Python 3 (ipykernel)",
   "language": "python",
   "name": "python3"
  },
  "language_info": {
   "codemirror_mode": {
    "name": "ipython",
    "version": 3
   },
   "file_extension": ".py",
   "mimetype": "text/x-python",
   "name": "python",
   "nbconvert_exporter": "python",
   "pygments_lexer": "ipython3",
   "version": "3.9.12"
  }
 },
 "nbformat": 4,
 "nbformat_minor": 5
}
